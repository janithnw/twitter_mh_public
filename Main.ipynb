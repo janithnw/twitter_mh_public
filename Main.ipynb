{
 "cells": [
  {
   "cell_type": "markdown",
   "metadata": {},
   "source": [
    "Introduction\n",
    "=========\n",
    "This notebook is the main starting point for all the scripts that are in this project. It goes through the steps necessary to set up ...\n",
    "\n",
    "\n",
    "Loading Data\n",
    "-------\n",
    "We use the CLPsych Dataset. The dataset contains a file for each user, in which each file contains JSON objects of the users' tweets. We read these files in, preprocess them and store them as Pandas Dataframes in pickle files.\n",
    "\n",
    "Run ```preprocessing/load_data_to_dfs.py```\n",
    "\n",
    "\n",
    "Active Mentions Filtering\n",
    "--------\n",
    "In this step, active mentions of mental health related content are filtered. The related files for this task are in the active_mentions_filtering directory. We use a an SQLLite database to store our manual labels. We used ```labelling_core.py``` and ```labelling_core_ptsd.py``` scripts to manually label tweets. Methods in ```active_mentions_filter.py``` are used to train, and evaluate the learning model that filters tweets. Once there are manually labelled tweets, and once a learning model is trained to identify mental health related tweets, run ```preprocessing/add_active_mentions_probs.py``` to add probability values to the main dataset.\n",
    "\n",
    "\n",
    "```filter_hist.ipynb``` notebook shows the data and the histograms reported in our paper.\n",
    "\n",
    "\n",
    "```feature_analyses.ipynb``` notebook contains the feature analyses experiments.\n",
    "\n",
    "\n"
   ]
  },
  {
   "cell_type": "code",
   "execution_count": null,
   "metadata": {},
   "outputs": [],
   "source": [
    "Loading data"
   ]
  }
 ],
 "metadata": {
  "kernelspec": {
   "display_name": "Python 3",
   "language": "python",
   "name": "python3"
  },
  "language_info": {
   "codemirror_mode": {
    "name": "ipython",
    "version": 3
   },
   "file_extension": ".py",
   "mimetype": "text/x-python",
   "name": "python",
   "nbconvert_exporter": "python",
   "pygments_lexer": "ipython3",
   "version": "3.6.7"
  }
 },
 "nbformat": 4,
 "nbformat_minor": 2
}
