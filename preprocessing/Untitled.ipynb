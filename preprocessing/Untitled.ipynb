{
 "cells": [
  {
   "cell_type": "code",
   "execution_count": 1,
   "metadata": {},
   "outputs": [],
   "source": [
    "%load_ext autoreload\n",
    "%autoreload 2"
   ]
  },
  {
   "cell_type": "code",
   "execution_count": 2,
   "metadata": {},
   "outputs": [],
   "source": [
    "import sys, os\n",
    "sys.path.insert(1, os.path.join(sys.path[0], '..'))\n",
    "from sklearn import svm, metrics\n",
    "from sklearn.calibration import CalibratedClassifierCV\n",
    "from sklearn.feature_extraction.text import TfidfVectorizer\n",
    "from sklearn.metrics import classification_report\n",
    "from sklearn.pipeline import Pipeline, FeatureUnion\n",
    "\n",
    "import predictions.models as models\n",
    "from predictions.positive_tweets import remove_ith_tweet\n",
    "import config\n",
    "import util\n",
    "import mlutils\n",
    "import numpy as np\n",
    "import pickle"
   ]
  },
  {
   "cell_type": "code",
   "execution_count": 3,
   "metadata": {},
   "outputs": [],
   "source": [
    "# ctrl_df_held_out = util.load_picke_file(config.CTRL_DEPR_HELD_OUT_DF)\n",
    "ctrl_depr_df = util.load_picke_file(config.CTRL_DEPR_DF)"
   ]
  },
  {
   "cell_type": "code",
   "execution_count": 3,
   "metadata": {},
   "outputs": [],
   "source": [
    "ctrl_ptsd_df = util.load_picke_file(config.CTRL_PTSD_DF)\n",
    "ctrl_ptsd_held_out_df = util.load_picke_file(config.CTRL_PTSD_HELD_OUT_DF)"
   ]
  },
  {
   "cell_type": "code",
   "execution_count": 4,
   "metadata": {},
   "outputs": [],
   "source": [
    "def remove_mh_records(r, column):\n",
    "    return [r[column][i] for i in range(len(r['mental_health_probs'])) if r['mental_health_probs'][i] <= 0.3]"
   ]
  },
  {
   "cell_type": "code",
   "execution_count": 5,
   "metadata": {},
   "outputs": [],
   "source": [
    "def filter_mh_records(df):\n",
    "    cols = ['tweets', 'cmu_pos_tags', 'nltk_pos_tags', 'created_at',\n",
    "       'ptsd_probs', 'mental_health_probs']\n",
    "    for c in cols:\n",
    "        df[c] = [remove_mh_records(r, c) for i, r in df.iterrows()]\n",
    "    return df"
   ]
  },
  {
   "cell_type": "code",
   "execution_count": 6,
   "metadata": {},
   "outputs": [],
   "source": [
    "ctrl_ptsd_filtered_df = filter_mh_records(ctrl_ptsd_df)"
   ]
  },
  {
   "cell_type": "code",
   "execution_count": 7,
   "metadata": {},
   "outputs": [],
   "source": [
    "ctrl_ptsd_held_out_filtered_df = filter_mh_records(ctrl_ptsd_held_out_df)"
   ]
  },
  {
   "cell_type": "code",
   "execution_count": 8,
   "metadata": {},
   "outputs": [],
   "source": [
    "util.dump_picke_file(ctrl_ptsd_held_out_filtered_df, config.CTRL_PTSD_HELD_OUT_FILTERED_DF)"
   ]
  },
  {
   "cell_type": "code",
   "execution_count": 9,
   "metadata": {},
   "outputs": [],
   "source": [
    "util.dump_picke_file(ctrl_ptsd_filtered_df, config.CTRL_PTSD_FILTERED_DF)"
   ]
  },
  {
   "cell_type": "code",
   "execution_count": 7,
   "metadata": {},
   "outputs": [],
   "source": [
    "ctrl_depr_filtered_df = filter_mh_records(ctrl_depr_df)"
   ]
  },
  {
   "cell_type": "code",
   "execution_count": 8,
   "metadata": {},
   "outputs": [],
   "source": [
    "util.dump_picke_file(ctrl_depr_filtered_df, config.CTRL_DEPR_FILTERED_DF)"
   ]
  }
 ],
 "metadata": {
  "kernelspec": {
   "display_name": "Python 3",
   "language": "python",
   "name": "python3"
  },
  "language_info": {
   "codemirror_mode": {
    "name": "ipython",
    "version": 3
   },
   "file_extension": ".py",
   "mimetype": "text/x-python",
   "name": "python",
   "nbconvert_exporter": "python",
   "pygments_lexer": "ipython3",
   "version": "3.5.2"
  }
 },
 "nbformat": 4,
 "nbformat_minor": 2
}
